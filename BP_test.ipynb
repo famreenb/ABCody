{
  "nbformat": 4,
  "nbformat_minor": 0,
  "metadata": {
    "colab": {
      "provenance": [],
      "toc_visible": true
    },
    "kernelspec": {
      "name": "python3",
      "display_name": "Python 3"
    },
    "language_info": {
      "name": "python"
    }
  },
  "cells": [
    {
      "cell_type": "markdown",
      "source": [
        "Created by Amreen Bano"
      ],
      "metadata": {
        "id": "PrSexDYOP5fS"
      }
    },
    {
      "cell_type": "code",
      "source": [
        "import numpy as np\n",
        "import pandas as pd"
      ],
      "metadata": {
        "id": "nk1zEu1iPrta"
      },
      "execution_count": 49,
      "outputs": []
    },
    {
      "cell_type": "code",
      "source": [
        "def buckingham_potential(r, A, rho, C):\n",
        "    \"\"\"Calculates the Buckingham potential between a pair of atoms.\n",
        "\n",
        "    Args:\n",
        "        r (float): Interatomic distance in Angstroms.\n",
        "        A (float): Potential coefficient A in eV.\n",
        "        rho (float): Potential coefficient rho in Angstroms^-1.\n",
        "        C (float): Potential coefficient C in eV.\n",
        "\n",
        "    Returns:\n",
        "        float: Buckingham potential energy in eV.\n",
        "    \"\"\"\n",
        "    return A * np.exp(-rho * r) - C / r**6"
      ],
      "metadata": {
        "id": "GMpQiRVGGUve"
      },
      "execution_count": 50,
      "outputs": []
    },
    {
      "cell_type": "code",
      "source": [
        "# Define the transition metals and oxygen atomic symbols\n",
        "transition_metals = [\"Fe\", \"Co\", \"Ni\", \"Cu\", \"Zn\"]\n",
        "oxygen = \"O\""
      ],
      "metadata": {
        "id": "VkCTg-LFGZ2G"
      },
      "execution_count": 51,
      "outputs": []
    },
    {
      "cell_type": "code",
      "source": [
        "# Define the potential parameters for each pair of elements\n",
        "parameters = {\n",
        "    (\"Fe\", \"O\"): {\"A\": 1308.0, \"rho\": 0.326, \"C\": 0.0},\n",
        "    (\"Co\", \"O\"): {\"A\": 1390.0, \"rho\": 0.323, \"C\": 0.0},\n",
        "    (\"Ni\", \"O\"): {\"A\": 1490.0, \"rho\": 0.319, \"C\": 0.0},\n",
        "    (\"Cu\", \"O\"): {\"A\": 980.0, \"rho\": 0.339, \"C\": 0.0},\n",
        "    (\"Zn\", \"O\"): {\"A\": 900.0, \"rho\": 0.345, \"C\": 0.0}\n",
        "}"
      ],
      "metadata": {
        "id": "7WZqETyDGgBn"
      },
      "execution_count": 57,
      "outputs": []
    },
    {
      "cell_type": "code",
      "source": [
        "# Generate the database of Buckingham potentials\n",
        "distances = np.linspace(0.5, 25.0, num=50)  # Interatomic distances in Angstroms\n",
        "data = []\n",
        "for metal in transition_metals:\n",
        "    for distance in distances:\n",
        "        energy = buckingham_potential(distance, parameters[(metal, oxygen)][\"A\"],\n",
        "                                      parameters[(metal, oxygen)][\"rho\"],\n",
        "                                      parameters[(metal, oxygen)][\"C\"])\n",
        "        data.append({\"Metal\": metal, \"Oxygen\": oxygen, \"Distance\": distance, \"Energy\": energy})"
      ],
      "metadata": {
        "id": "ueXiaCGFGije"
      },
      "execution_count": 58,
      "outputs": []
    },
    {
      "cell_type": "code",
      "source": [
        "# Convert the data to a Pandas DataFrame\n",
        "df = pd.DataFrame(data)"
      ],
      "metadata": {
        "id": "QY3q5KkIGnHW"
      },
      "execution_count": 59,
      "outputs": []
    },
    {
      "cell_type": "code",
      "source": [
        "# Save the database to a CSV file\n",
        "df.to_csv(\"buckingham_potentials.csv\", index=False)"
      ],
      "metadata": {
        "id": "blfGkbRTGyhu"
      },
      "execution_count": 60,
      "outputs": []
    }
  ]
}